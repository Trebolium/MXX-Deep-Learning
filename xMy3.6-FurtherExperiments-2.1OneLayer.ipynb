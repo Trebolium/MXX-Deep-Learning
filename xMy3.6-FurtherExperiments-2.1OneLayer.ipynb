{
 "cells": [
  {
   "cell_type": "code",
   "execution_count": 1,
   "metadata": {},
   "outputs": [
    {
     "name": "stderr",
     "output_type": "stream",
     "text": [
      "Using TensorFlow backend.\n"
     ]
    },
    {
     "data": {
      "text/plain": [
       "'2.2.4'"
      ]
     },
     "execution_count": 1,
     "metadata": {},
     "output_type": "execute_result"
    }
   ],
   "source": [
    "#import keras\n",
    "\n",
    "import keras\n",
    "keras.__version__"
   ]
  },
  {
   "cell_type": "code",
   "execution_count": 2,
   "metadata": {},
   "outputs": [],
   "source": [
    "#import data\n",
    "\n",
    "from keras.datasets import reuters\n",
    "\n",
    "(train_data, train_labels), (test_data, test_labels) = reuters.load_data(num_words = 10000)"
   ]
  },
  {
   "cell_type": "code",
   "execution_count": 3,
   "metadata": {},
   "outputs": [
    {
     "data": {
      "text/plain": [
       "8982"
      ]
     },
     "execution_count": 3,
     "metadata": {},
     "output_type": "execute_result"
    }
   ],
   "source": [
    "len(train_labels)"
   ]
  },
  {
   "cell_type": "code",
   "execution_count": 4,
   "metadata": {},
   "outputs": [
    {
     "data": {
      "text/plain": [
       "2246"
      ]
     },
     "execution_count": 4,
     "metadata": {},
     "output_type": "execute_result"
    }
   ],
   "source": [
    "len(test_data)"
   ]
  },
  {
   "cell_type": "code",
   "execution_count": 5,
   "metadata": {},
   "outputs": [],
   "source": [
    "#format data and results\n",
    "import numpy as np\n",
    "\n",
    "def vectorize_sequence(sequences, dimensions=10000):\n",
    "    results = np.zeros((len(sequences), dimensions))\n",
    "    for i, sequences in enumerate(sequences):\n",
    "        results[i,sequences]=1.\n",
    "    return results\n",
    "    \n",
    "x_train= vectorize_sequence(train_data)\n",
    "x_test= vectorize_sequence(test_data)\n",
    "    "
   ]
  },
  {
   "cell_type": "code",
   "execution_count": 6,
   "metadata": {},
   "outputs": [],
   "source": [
    "from keras.utils.np_utils import to_categorical\n",
    "\n",
    "one_hot_train_labels=to_categorical(train_labels)\n",
    "one_hot_test_labels=to_categorical(test_labels)\n"
   ]
  },
  {
   "cell_type": "code",
   "execution_count": 7,
   "metadata": {},
   "outputs": [
    {
     "name": "stdout",
     "output_type": "stream",
     "text": [
      "WARNING:tensorflow:From /anaconda/lib/python3.6/site-packages/tensorflow/python/framework/op_def_library.py:263: colocate_with (from tensorflow.python.framework.ops) is deprecated and will be removed in a future version.\n",
      "Instructions for updating:\n",
      "Colocations handled automatically by placer.\n"
     ]
    }
   ],
   "source": [
    "#import keras settings\n",
    "\n",
    "from keras import models\n",
    "from keras import layers\n",
    "\n",
    "#define model and layers\n",
    "\n",
    "model=models.Sequential()\n",
    "model.add(layers.Dense(64, activation='relu', input_shape=(10000,)))\n",
    "model.add(layers.Dense(46,activation='softmax'))"
   ]
  },
  {
   "cell_type": "code",
   "execution_count": 8,
   "metadata": {},
   "outputs": [],
   "source": [
    "# compile\n",
    "\n",
    "model.compile(optimizer='rmsprop', loss='categorical_crossentropy',metrics=['accuracy'])"
   ]
  },
  {
   "cell_type": "code",
   "execution_count": 9,
   "metadata": {},
   "outputs": [],
   "source": [
    "x_val=x_train[:1000]\n",
    "partial_x_train=x_train[1000:]\n",
    "\n",
    "y_val = one_hot_train_labels[:1000]\n",
    "partial_y_train = one_hot_train_labels[1000:]"
   ]
  },
  {
   "cell_type": "code",
   "execution_count": 10,
   "metadata": {},
   "outputs": [
    {
     "name": "stdout",
     "output_type": "stream",
     "text": [
      "WARNING:tensorflow:From /anaconda/lib/python3.6/site-packages/tensorflow/python/ops/math_ops.py:3066: to_int32 (from tensorflow.python.ops.math_ops) is deprecated and will be removed in a future version.\n",
      "Instructions for updating:\n",
      "Use tf.cast instead.\n",
      "Train on 7982 samples, validate on 1000 samples\n",
      "Epoch 1/20\n",
      "7982/7982 [==============================] - 4s 470us/step - loss: 1.8599 - acc: 0.6461 - val_loss: 1.2275 - val_acc: 0.7400\n",
      "Epoch 2/20\n",
      "7982/7982 [==============================] - 2s 257us/step - loss: 0.9456 - acc: 0.8029 - val_loss: 0.9803 - val_acc: 0.7960\n",
      "Epoch 3/20\n",
      "7982/7982 [==============================] - 2s 241us/step - loss: 0.6437 - acc: 0.8668 - val_loss: 0.8847 - val_acc: 0.8180\n",
      "Epoch 4/20\n",
      "7982/7982 [==============================] - 2s 229us/step - loss: 0.4595 - acc: 0.9060 - val_loss: 0.8337 - val_acc: 0.8330\n",
      "Epoch 5/20\n",
      "7982/7982 [==============================] - 2s 251us/step - loss: 0.3443 - acc: 0.9282 - val_loss: 0.8264 - val_acc: 0.8270\n",
      "Epoch 6/20\n",
      "7982/7982 [==============================] - 2s 268us/step - loss: 0.2673 - acc: 0.9406 - val_loss: 0.8162 - val_acc: 0.8310\n",
      "Epoch 7/20\n",
      "7982/7982 [==============================] - 3s 328us/step - loss: 0.2178 - acc: 0.9481 - val_loss: 0.8410 - val_acc: 0.8330\n",
      "Epoch 8/20\n",
      "7982/7982 [==============================] - 3s 325us/step - loss: 0.1882 - acc: 0.9510 - val_loss: 0.8481 - val_acc: 0.8320\n",
      "Epoch 9/20\n",
      "7982/7982 [==============================] - 2s 289us/step - loss: 0.1636 - acc: 0.9523 - val_loss: 0.8954 - val_acc: 0.8300\n",
      "Epoch 10/20\n",
      "7982/7982 [==============================] - 2s 276us/step - loss: 0.1507 - acc: 0.9551 - val_loss: 0.9266 - val_acc: 0.8200\n",
      "Epoch 11/20\n",
      "7982/7982 [==============================] - 2s 291us/step - loss: 0.1377 - acc: 0.9539 - val_loss: 0.9537 - val_acc: 0.8140\n",
      "Epoch 12/20\n",
      "7982/7982 [==============================] - 2s 295us/step - loss: 0.1263 - acc: 0.9558 - val_loss: 0.9913 - val_acc: 0.8120\n",
      "Epoch 13/20\n",
      "7982/7982 [==============================] - 3s 368us/step - loss: 0.1242 - acc: 0.9577 - val_loss: 0.9998 - val_acc: 0.8150\n",
      "Epoch 14/20\n",
      "7982/7982 [==============================] - 3s 367us/step - loss: 0.1171 - acc: 0.9574 - val_loss: 1.0123 - val_acc: 0.8040\n",
      "Epoch 15/20\n",
      "7982/7982 [==============================] - 3s 371us/step - loss: 0.1132 - acc: 0.9584 - val_loss: 1.0735 - val_acc: 0.8060\n",
      "Epoch 16/20\n",
      "7982/7982 [==============================] - 3s 319us/step - loss: 0.1139 - acc: 0.9579 - val_loss: 1.0757 - val_acc: 0.8030\n",
      "Epoch 17/20\n",
      "7982/7982 [==============================] - 2s 311us/step - loss: 0.1093 - acc: 0.9569 - val_loss: 1.0896 - val_acc: 0.8100\n",
      "Epoch 18/20\n",
      "7982/7982 [==============================] - 3s 339us/step - loss: 0.1046 - acc: 0.9587 - val_loss: 1.1301 - val_acc: 0.8010\n",
      "Epoch 19/20\n",
      "7982/7982 [==============================] - 3s 336us/step - loss: 0.1017 - acc: 0.9579 - val_loss: 1.1246 - val_acc: 0.8040\n",
      "Epoch 20/20\n",
      "7982/7982 [==============================] - 4s 461us/step - loss: 0.1037 - acc: 0.9575 - val_loss: 1.1330 - val_acc: 0.8150\n"
     ]
    }
   ],
   "source": [
    "history = model.fit(partial_x_train, partial_y_train, epochs=20, batch_size=128, validation_data=(x_val, y_val))"
   ]
  },
  {
   "cell_type": "code",
   "execution_count": 11,
   "metadata": {},
   "outputs": [
    {
     "name": "stdout",
     "output_type": "stream",
     "text": [
      "2246/2246 [==============================] - 0s 218us/step\n"
     ]
    },
    {
     "data": {
      "text/plain": [
       "[1.3376416920129466, 0.7867319679430098]"
      ]
     },
     "execution_count": 11,
     "metadata": {},
     "output_type": "execute_result"
    }
   ],
   "source": [
    "results = model.evaluate(x_test, one_hot_test_labels)\n",
    "results"
   ]
  },
  {
   "cell_type": "code",
   "execution_count": 12,
   "metadata": {},
   "outputs": [
    {
     "data": {
      "text/plain": [
       "dict_keys(['val_loss', 'val_acc', 'loss', 'acc'])"
      ]
     },
     "execution_count": 12,
     "metadata": {},
     "output_type": "execute_result"
    }
   ],
   "source": [
    "history.history.keys()"
   ]
  },
  {
   "cell_type": "code",
   "execution_count": 16,
   "metadata": {},
   "outputs": [
    {
     "data": {
      "text/plain": [
       "<function matplotlib.pyplot.show(*args, **kw)>"
      ]
     },
     "execution_count": 16,
     "metadata": {},
     "output_type": "execute_result"
    },
    {
     "data": {
      "image/png": "[encoded data removed]",
      "text/plain": [
       "<Figure size 432x288 with 1 Axes>"
      ]
     },
     "metadata": {
      "needs_background": "light"
     },
     "output_type": "display_data"
    }
   ],
   "source": [
    "import matplotlib.pyplot as plt\n",
    "\n",
    "acc = history.history['acc']\n",
    "val_acc = history.history['val_acc']\n",
    "loss = history.history['loss']\n",
    "val_loss = history.history['val_loss']\n",
    "\n",
    "epochs = range(1, len(acc)+1)\n",
    "\n",
    "plt.plot(epochs,loss,'bo',label='Training loss')\n",
    "plt.plot(epochs,val_loss,'b',label='Validation loss')\n",
    "plt.title('Train and Val loss')\n",
    "plt.xlabel('Epochs')\n",
    "plt.ylabel('Loss')\n",
    "plt.legend()\n",
    "\n",
    "plt.show\n",
    "\n"
   ]
  },
  {
   "cell_type": "code",
   "execution_count": 14,
   "metadata": {},
   "outputs": [
    {
     "data": {
      "text/plain": [
       "<function matplotlib.pyplot.show(*args, **kw)>"
      ]
     },
     "execution_count": 14,
     "metadata": {},
     "output_type": "execute_result"
    },
    {
     "data": {
      "image/png": "[encoded data removed]",
      "text/plain": [
       "<Figure size 432x288 with 1 Axes>"
      ]
     },
     "metadata": {
      "needs_background": "light"
     },
     "output_type": "display_data"
    }
   ],
   "source": [
    "plt.plot(epochs,acc,'bo',label='Training acc')\n",
    "plt.plot(epochs,val_acc,'b',label='Validation acc')\n",
    "plt.title('Train and Val accuracy')\n",
    "plt.xlabel('Epochs')\n",
    "plt.ylabel('Accuracy')\n",
    "plt.legend()\n",
    "\n",
    "plt.show"
   ]
  },
  {
   "cell_type": "code",
   "execution_count": 15,
   "metadata": {},
   "outputs": [
    {
     "name": "stdout",
     "output_type": "stream",
     "text": [
      "(46,)\n",
      "1.0000001\n",
      "3\n"
     ]
    }
   ],
   "source": [
    "predictions=model.predict(x_test)\n",
    "print(predictions[0].shape)\n",
    "print(np.sum(predictions[0]))\n",
    "print(np.argmax(predictions[0]))"
   ]
  },
  {
   "cell_type": "code",
   "execution_count": null,
   "metadata": {},
   "outputs": [],
   "source": []
  }
 ],
 "metadata": {
  "kernelspec": {
   "display_name": "Python 3",
   "language": "python",
   "name": "python3"
  },
  "language_info": {
   "codemirror_mode": {
    "name": "ipython",
    "version": 3
   },
   "file_extension": ".py",
   "mimetype": "text/x-python",
   "name": "python",
   "nbconvert_exporter": "python",
   "pygments_lexer": "ipython3",
   "version": "3.6.8"
  }
 },
 "nbformat": 4,
 "nbformat_minor": 2
}
